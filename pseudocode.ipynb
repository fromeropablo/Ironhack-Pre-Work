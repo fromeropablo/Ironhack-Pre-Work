{
 "cells": [
  {
   "cell_type": "markdown",
   "metadata": {},
   "source": [
    "## What is Pseudo-code?"
   ]
  },
  {
   "cell_type": "markdown",
   "metadata": {},
   "source": [
    "Pseudo-code is an informal coding practice to help programmers plan algorithms and train programmatic thinking. Pseudo-code is not tied to any specific programming language such as Python, JavaScript, or C#. Instead, it uses human languages. By using pseudo-code, you can plan every step of your program without worrying about syntax. Its greatest benefit is to allow you to discover the vulnerabilities and opportunities of your programmatic logic in order to improve it before implementation."
   ]
  },
  {
   "cell_type": "markdown",
   "metadata": {},
   "source": [
    "It is essentially breaking down the problem into simpler steps and in simpler words, not technical but just \n",
    "like a conversational language"
   ]
  },
  {
   "cell_type": "markdown",
   "metadata": {},
   "source": [
    "### Do's & Don'ts:"
   ]
  },
  {
   "cell_type": "markdown",
   "metadata": {},
   "source": [
    "#### Do's:"
   ]
  },
  {
   "cell_type": "markdown",
   "metadata": {},
   "source": [
    "- Use control structure\n",
    "- Use proper naming conventions\n",
    "- Indentations and white spaces are the key\n",
    "- Keep it simple\n",
    "- Keep it concise"
   ]
  },
  {
   "cell_type": "markdown",
   "metadata": {},
   "source": [
    "#### Don'ts:"
   ]
  },
  {
   "cell_type": "markdown",
   "metadata": {},
   "source": [
    "- Don't make your pseudo-code abstract\n",
    "- Don't be too generalized"
   ]
  },
  {
   "cell_type": "markdown",
   "metadata": {},
   "source": [
    "### Exercise - Writing Pseudocode"
   ]
  },
  {
   "cell_type": "markdown",
   "metadata": {},
   "source": [
    "#### Duel Of Sorcerers"
   ]
  },
  {
   "cell_type": "raw",
   "metadata": {},
   "source": [
    "1. You are witnessing an epic battle between two powerful sorcerers: Gandalf and Saruman. Each sorcerer has 10 spells of variable power in their mind and they are going to throw them one after the other. The winner of the duel will be the one who wins more of those clashes between spells. Spells are represented as a list of 10 integers whose value equals the power of the spell.\n",
    "\n",
    "gandalf = [10, 11, 13, 30, 22, 11, 10, 33, 22, 22]\n",
    "saruman = [23, 66, 12, 43, 12, 10, 44, 23, 12, 17]\n",
    "\n",
    "For example:\n",
    "The first clash is won by Saruman: 10 against 23, wins 23\n",
    "The second clash wins Saruman: 11 against 66, wins 66\n",
    "etc.\n",
    "\n",
    "You will create two variables, one for each sorcerer, where the sum of clashes won will be stored. Depending on which variable is greater at the end of the duel, you will show one of the following three results on the screen:\n",
    "Gandalf wins\n",
    "Saruman wins\n",
    "Tie\n",
    "\n",
    "Write a pseudocode to solve this problem and then code it !"
   ]
  },
  {
   "cell_type": "raw",
   "metadata": {},
   "source": [
    "The values of each list correspond to the variable power of each sorcerer for every duel:\n",
    "gandalf = [10, 11, 13, 30, 22, 11, 10, 33, 22, 22]\n",
    "saruman = [23, 66, 12, 43, 12, 10, 44, 23, 12, 17]\n",
    "\n",
    "i = 0 because the first round has a 0 index. \n",
    "\n",
    "a = Gandalf wins, starting at 0\n",
    "b = Saruma wins, starting at 0\n",
    "\n",
    "As the duel will consist in 10 face-to-face games, the while loop created will be lower than 10:\n",
    "\n",
    "while i is lower than 10: \n",
    "    if Gandalf's spell is higher than Saruma's:\n",
    "        a adds a victory\n",
    "    elif Saruman's spell is higher than Gandalf's:\n",
    "        b adds a victory\n",
    "    else\n",
    "        print Tie\n",
    "\n",
    "    i= i + the round played\n",
    "    \n",
    "if Gandalf has more victories than Saruman:\n",
    "   print Gandalf wins\n",
    "elif Saruman has more victories than Gandalf:\n",
    "   print Saruman wins\n",
    "else:\n",
    "   print The duel ended with a tie"
   ]
  },
  {
   "cell_type": "code",
   "execution_count": 5,
   "metadata": {},
   "outputs": [
    {
     "name": "stdout",
     "output_type": "stream",
     "text": [
      "Gandalf wins\n"
     ]
    }
   ],
   "source": [
    "#The values of each list correspond to the variable power of each sorcerer for every duel\n",
    "gandalf = [10, 11, 13, 30, 22, 11, 10, 33, 22, 22]\n",
    "saruman = [23, 66, 12, 43, 12, 10, 44, 23, 12, 17]\n",
    "i = 0\n",
    "\n",
    "# a is equal to the number of wins of Gandalf ;  b is equal to the number of Saruma's wins\n",
    "a = 0\n",
    "b = 0\n",
    "\n",
    "while i < 10 :\n",
    "    if gandalf[i] > saruman[i]:\n",
    "        a = a+1\n",
    "    elif saruman[i] > gandalf[i]:\n",
    "        b = b+1\n",
    "    else:\n",
    "        print(\"Tie\")\n",
    "\n",
    "    i=i+1\n",
    "    \n",
    "if a > b:\n",
    "    print(\"Gandalf wins\")\n",
    "elif b < a:\n",
    "    print(\"Saruman wins\")\n",
    "else: \n",
    "    print(\"The duel ended with a tie\")"
   ]
  }
 ],
 "metadata": {
  "kernelspec": {
   "display_name": "Python 3",
   "language": "python",
   "name": "python3"
  },
  "language_info": {
   "codemirror_mode": {
    "name": "ipython",
    "version": 3
   },
   "file_extension": ".py",
   "mimetype": "text/x-python",
   "name": "python",
   "nbconvert_exporter": "python",
   "pygments_lexer": "ipython3",
   "version": "3.8.5"
  }
 },
 "nbformat": 4,
 "nbformat_minor": 2
}
