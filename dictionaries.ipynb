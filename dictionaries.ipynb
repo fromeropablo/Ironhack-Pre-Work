{
 "cells": [
  {
   "cell_type": "markdown",
   "metadata": {},
   "source": [
    "## Data structures continued"
   ]
  },
  {
   "cell_type": "markdown",
   "metadata": {},
   "source": [
    "**1. Use the dictionary given below:**"
   ]
  },
  {
   "cell_type": "code",
   "execution_count": 3,
   "metadata": {},
   "outputs": [],
   "source": [
    "#this is a dictionary that show us the frequency of the words in a text. The keys are the words, and the values is the frequency \n",
    "word_freq = {'love': 25, 'conversation': 1, 'every': 6, \"we're\": 1, 'plate': 1, 'sour': 1, 'jukebox': 1, 'now': 11, 'taxi': 1, 'fast': 1, 'bag': 1, 'man': 1, 'push': 3, 'baby': 14, 'going': 1, 'you': 16, \"don't\": 2, 'one': 1, 'mind': 2, 'backseat': 1, 'friends': 1, 'then': 3, 'know': 2}"
   ]
  },
  {
   "cell_type": "raw",
   "metadata": {},
   "source": [
    "Answer the following questions:   \n",
    "- How many key-value pairs are in this dictionary?\n",
    "- What keys are present in this dictionary? \n",
    "- What is the frequency of following words in the dictionary: \n",
    "    - friends\n",
    "    - taxi \n",
    "    - jukebox\n",
    "- Is the word `begin` present in the dictionary ?\n",
    "- Add the following words and their frequencies to the dictionary:\n",
    "        - 'begin': 1\n",
    "        - 'start': 2\n",
    "        - 'over': 1\n",
    "        - 'body': 17\n",
    "- Use the following code to convert the result from word_freq.keys() to a list:\n",
    "        list(word_freq.keys())\n",
    "- Store the results of the above code in a variable called `word`\n",
    "- What is the first word in the dictionary? What is the frequency of that word?\n",
    "- What is the last word in the dictionary? What is the frequency of that word?"
   ]
  },
  {
   "cell_type": "code",
   "execution_count": 6,
   "metadata": {},
   "outputs": [
    {
     "name": "stdout",
     "output_type": "stream",
     "text": [
      "There are 27 in this dictionary\n",
      "dict_keys(['love', 'conversation', 'every', \"we're\", 'plate', 'sour', 'jukebox', 'now', 'taxi', 'fast', 'bag', 'man', 'push', 'baby', 'going', 'you', \"don't\", 'one', 'mind', 'backseat', 'friends', 'then', 'know', 'begin', 'start', 'over', 'body'])\n",
      "1\n",
      "1\n",
      "1\n",
      "False\n",
      "love\n",
      "1\n",
      "body\n",
      "1\n"
     ]
    }
   ],
   "source": [
    "\n",
    "print('There are', len(word_freq.keys()), 'in this dictionary')\n",
    "\n",
    "print(word_freq.keys())\n",
    "\n",
    "print(word_freq['friends'])\n",
    "print(word_freq['taxi'])\n",
    "print(word_freq['jukebox'])\n",
    "\n",
    "contains_begin = 'begin' in word_freq.values()\n",
    "print(contains_begin)\n",
    "\n",
    "word_freq['begin'] = 1\n",
    "word_freq['start'] = 2\n",
    "word_freq['over'] = 1\n",
    "word_freq['body'] = 17\n",
    "\n",
    "word = list(word_freq.keys())\n",
    "print(word[0])\n",
    "print(word.count('love'))\n",
    "print(word[-1])\n",
    "print(word.count('body'))"
   ]
  },
  {
   "cell_type": "markdown",
   "metadata": {},
   "source": [
    "**2. Can a dictionary have two key-value pairs with the same key ?**"
   ]
  },
  {
   "cell_type": "code",
   "execution_count": 26,
   "metadata": {},
   "outputs": [],
   "source": [
    "#The key is unique, so no, it cannot. "
   ]
  },
  {
   "cell_type": "markdown",
   "metadata": {},
   "source": [
    "**3. Can a dictionary have two key-value pairs with the same value but different keys?**"
   ]
  },
  {
   "cell_type": "code",
   "execution_count": 11,
   "metadata": {},
   "outputs": [
    {
     "name": "stdout",
     "output_type": "stream",
     "text": [
      "1\n",
      "1\n"
     ]
    }
   ],
   "source": [
    "print(word_freq[\"we're\"])\n",
    "print(word_freq[\"plate\"])\n",
    "\n",
    "#Yes, it can, because the values are not unique. "
   ]
  },
  {
   "cell_type": "markdown",
   "metadata": {},
   "source": [
    "# Additional Content: Nested Dictionaries "
   ]
  },
  {
   "cell_type": "markdown",
   "metadata": {},
   "source": [
    "Students will not be assesed on this. "
   ]
  },
  {
   "cell_type": "code",
   "execution_count": 22,
   "metadata": {},
   "outputs": [],
   "source": [
    "contacts = {1: {'Name' : 'John' , 'Phone':'312-555-1234'},\n",
    "            2: {'Name' : 'Paul' , 'Phone':'312-555-3123'},\n",
    "            3: {'Name' : 'George' , 'Phone':'312-555-3333'},\n",
    "            4: {'Name' : 'Ringo' , 'Phone':'312-555-2222'}}"
   ]
  },
  {
   "cell_type": "code",
   "execution_count": 23,
   "metadata": {},
   "outputs": [
    {
     "data": {
      "text/plain": [
       "dict"
      ]
     },
     "execution_count": 23,
     "metadata": {},
     "output_type": "execute_result"
    }
   ],
   "source": [
    "# In this case we have a dictionary as the values associated with the keys here. \n",
    "type(contacts)"
   ]
  },
  {
   "cell_type": "code",
   "execution_count": 24,
   "metadata": {},
   "outputs": [
    {
     "data": {
      "text/plain": [
       "{1: {'Name': 'John', 'Phone': '312-555-1234'},\n",
       " 2: {'Name': 'Paul', 'Phone': '312-555-3123'},\n",
       " 3: {'Name': 'George', 'Phone': '312-555-3333'},\n",
       " 4: {'Name': 'Ringo', 'Phone': '312-555-2222'}}"
      ]
     },
     "execution_count": 24,
     "metadata": {},
     "output_type": "execute_result"
    }
   ],
   "source": [
    "contacts"
   ]
  },
  {
   "cell_type": "code",
   "execution_count": 25,
   "metadata": {},
   "outputs": [
    {
     "data": {
      "text/plain": [
       "dict_keys([1, 2, 3, 4])"
      ]
     },
     "execution_count": 25,
     "metadata": {},
     "output_type": "execute_result"
    }
   ],
   "source": [
    "contacts.keys()"
   ]
  },
  {
   "cell_type": "code",
   "execution_count": 26,
   "metadata": {},
   "outputs": [
    {
     "data": {
      "text/plain": [
       "dict_values([{'Name': 'John', 'Phone': '312-555-1234'}, {'Name': 'Paul', 'Phone': '312-555-3123'}, {'Name': 'George', 'Phone': '312-555-3333'}, {'Name': 'Ringo', 'Phone': '312-555-2222'}])"
      ]
     },
     "execution_count": 26,
     "metadata": {},
     "output_type": "execute_result"
    }
   ],
   "source": [
    "contacts.values()"
   ]
  },
  {
   "cell_type": "code",
   "execution_count": 27,
   "metadata": {},
   "outputs": [
    {
     "name": "stdout",
     "output_type": "stream",
     "text": [
      "{'Name': 'John', 'Phone': '312-555-1234'}\n"
     ]
    }
   ],
   "source": [
    "print(contacts[1])"
   ]
  },
  {
   "cell_type": "markdown",
   "metadata": {},
   "source": [
    "**As we can see, the result of contacts[1] is a dictionary itself. Hence we can use that as our new variable and continue working on the returned result just like a regular dictionary**"
   ]
  },
  {
   "cell_type": "code",
   "execution_count": 28,
   "metadata": {},
   "outputs": [
    {
     "data": {
      "text/plain": [
       "dict_keys(['Name', 'Phone'])"
      ]
     },
     "execution_count": 28,
     "metadata": {},
     "output_type": "execute_result"
    }
   ],
   "source": [
    "contacts[1].keys()"
   ]
  },
  {
   "cell_type": "code",
   "execution_count": 29,
   "metadata": {},
   "outputs": [
    {
     "data": {
      "text/plain": [
       "dict_values(['John', '312-555-1234'])"
      ]
     },
     "execution_count": 29,
     "metadata": {},
     "output_type": "execute_result"
    }
   ],
   "source": [
    "contacts[1].values()"
   ]
  },
  {
   "cell_type": "code",
   "execution_count": 30,
   "metadata": {},
   "outputs": [
    {
     "data": {
      "text/plain": [
       "'John'"
      ]
     },
     "execution_count": 30,
     "metadata": {},
     "output_type": "execute_result"
    }
   ],
   "source": [
    "contacts[1]['Name']"
   ]
  },
  {
   "cell_type": "code",
   "execution_count": 31,
   "metadata": {},
   "outputs": [
    {
     "data": {
      "text/plain": [
       "'312-555-1234'"
      ]
     },
     "execution_count": 31,
     "metadata": {},
     "output_type": "execute_result"
    }
   ],
   "source": [
    "contacts[1]['Phone']"
   ]
  }
 ],
 "metadata": {
  "kernelspec": {
   "display_name": "Python 3",
   "language": "python",
   "name": "python3"
  },
  "language_info": {
   "codemirror_mode": {
    "name": "ipython",
    "version": 3
   },
   "file_extension": ".py",
   "mimetype": "text/x-python",
   "name": "python",
   "nbconvert_exporter": "python",
   "pygments_lexer": "ipython3",
   "version": "3.8.5"
  }
 },
 "nbformat": 4,
 "nbformat_minor": 2
}
