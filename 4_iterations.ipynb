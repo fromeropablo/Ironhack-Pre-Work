{
 "cells": [
  {
   "cell_type": "markdown",
   "metadata": {},
   "source": [
    "## Iterations "
   ]
  },
  {
   "cell_type": "markdown",
   "metadata": {},
   "source": [
    "### Exercise - Simple Iterations "
   ]
  },
  {
   "cell_type": "markdown",
   "metadata": {},
   "source": [
    "**1. Write a simple for loop to print integers from 10 to 30**"
   ]
  },
  {
   "cell_type": "code",
   "execution_count": 2,
   "metadata": {},
   "outputs": [
    {
     "name": "stdout",
     "output_type": "stream",
     "text": [
      "10\n",
      "11\n",
      "12\n",
      "13\n",
      "14\n",
      "15\n",
      "16\n",
      "17\n",
      "18\n",
      "19\n",
      "20\n",
      "21\n",
      "22\n",
      "23\n",
      "24\n",
      "25\n",
      "26\n",
      "27\n",
      "28\n",
      "29\n",
      "30\n"
     ]
    }
   ],
   "source": [
    "for i in range(10, 31):\n",
    "  print(i)"
   ]
  },
  {
   "cell_type": "markdown",
   "metadata": {},
   "source": [
    "**2. Update the previous code to print all the numbers from 10 to 30 that are multples of 5**"
   ]
  },
  {
   "cell_type": "code",
   "execution_count": 4,
   "metadata": {},
   "outputs": [
    {
     "name": "stdout",
     "output_type": "stream",
     "text": [
      "10\n",
      "15\n",
      "20\n",
      "25\n",
      "30\n"
     ]
    }
   ],
   "source": [
    "for i in range(10, 31): \n",
    "    if i%5 == 0:\n",
    "     print(i)"
   ]
  },
  {
   "cell_type": "markdown",
   "metadata": {},
   "source": [
    "**3. Write a code to print this pattern. Modify the print statement in the dummy code provided**"
   ]
  },
  {
   "cell_type": "raw",
   "metadata": {},
   "source": [
    "*\n",
    "***\n",
    "*****"
   ]
  },
  {
   "cell_type": "markdown",
   "metadata": {},
   "source": [
    "#dummy code\n",
    "for i in range(1, _, _):\n",
    "    print(___)"
   ]
  },
  {
   "cell_type": "code",
   "execution_count": 42,
   "metadata": {},
   "outputs": [
    {
     "name": "stdout",
     "output_type": "stream",
     "text": [
      "*\n",
      "***\n",
      "*****\n"
     ]
    }
   ],
   "source": [
    "for i in range(1, 6, 2):\n",
    "    print(i * '*')"
   ]
  },
  {
   "cell_type": "markdown",
   "metadata": {},
   "source": [
    "**4. Update the previous code to print the following pattern**"
   ]
  },
  {
   "cell_type": "raw",
   "metadata": {},
   "source": [
    "  *\n",
    " ***\n",
    "*****"
   ]
  },
  {
   "cell_type": "code",
   "execution_count": 4,
   "metadata": {},
   "outputs": [
    {
     "name": "stdout",
     "output_type": "stream",
     "text": [
      "   *\n",
      "  ***\n",
      " *****\n"
     ]
    }
   ],
   "source": [
    "a= 2\n",
    "for i in range(1, 6, 2): \n",
    "    a = a-1\n",
    "    print((a+1)*\" \", i*\"*\")\n",
    "  \n",
    "   \n",
    "    "
   ]
  },
  {
   "cell_type": "markdown",
   "metadata": {},
   "source": [
    "**5. Take an positve integer input from the user. Find the factorial of that number. Use the factorial method \n",
    "provided in the math library to check if your result is correct or not. You can use the math library to \n",
    "calculate the factorial as follows:**"
   ]
  },
  {
   "cell_type": "code",
   "execution_count": 100,
   "metadata": {},
   "outputs": [
    {
     "data": {
      "text/plain": [
       "120"
      ]
     },
     "execution_count": 100,
     "metadata": {},
     "output_type": "execute_result"
    }
   ],
   "source": [
    "import math\n",
    "math.factorial(n) # n is the postive integer for which we want to calculate the factorial "
   ]
  },
  {
   "cell_type": "raw",
   "metadata": {},
   "source": [
    "Note: Factorial is defined as \n",
    "    5 ! = 5*4*3*2*1    # \" ! \" is the mathematical notation for factorial\n",
    "    \n",
    "    n! = n*(n-1)*(n-2)*..........*1"
   ]
  },
  {
   "cell_type": "code",
   "execution_count": 106,
   "metadata": {},
   "outputs": [
    {
     "name": "stdout",
     "output_type": "stream",
     "text": [
      "Please, enter value for n: 5\n"
     ]
    },
    {
     "data": {
      "text/plain": [
       "120"
      ]
     },
     "execution_count": 106,
     "metadata": {},
     "output_type": "execute_result"
    }
   ],
   "source": [
    "import math\n",
    "n=int(input('Please, enter value for n: '))\n",
    "\n",
    "math.factorial(n)"
   ]
  },
  {
   "cell_type": "code",
   "execution_count": 107,
   "metadata": {},
   "outputs": [
    {
     "name": "stdout",
     "output_type": "stream",
     "text": [
      "120\n"
     ]
    }
   ],
   "source": [
    "#5! is equal to 5*4*3*2*1\n",
    "\n",
    "m= 5*4*3*2*1\n",
    "print(m)"
   ]
  },
  {
   "cell_type": "markdown",
   "metadata": {},
   "source": [
    "-----------------------------"
   ]
  },
  {
   "cell_type": "markdown",
   "metadata": {},
   "source": [
    "**Iterating on Lists**  \n",
    "We talked about lists and dictionaries before. You can also iterate the items of a list or a dictionaries.   \n",
    "Here are some examples to show its implementation:"
   ]
  },
  {
   "cell_type": "markdown",
   "metadata": {},
   "source": [
    "**Add elements to an empty list**"
   ]
  },
  {
   "cell_type": "markdown",
   "metadata": {},
   "source": [
    "In the next example we will show how to define an empty list and add elements to it using iterations.  \n",
    "**Problem statement is:** we are given a list with some integer elements. We want to create a new list that will consists of the squares of each element of the list. "
   ]
  },
  {
   "cell_type": "code",
   "execution_count": 115,
   "metadata": {},
   "outputs": [
    {
     "name": "stdout",
     "output_type": "stream",
     "text": [
      "[1, 4, 9, 16, 25, 36, 49, 64, 81, 100]\n"
     ]
    }
   ],
   "source": [
    "data = [1, 2, 3, 4, 5, 6, 7, 8, 9, 10]\n",
    "new_list = [] # Defining an empty list \n",
    "\n",
    "for item in data:\n",
    "    new_list.append(item**2)  # at each iteration, square for the value is calculated and appended to the list \n",
    "print(new_list)"
   ]
  },
  {
   "cell_type": "markdown",
   "metadata": {},
   "source": [
    "-----------------------------"
   ]
  },
  {
   "cell_type": "markdown",
   "metadata": {},
   "source": [
    "### Exercise : Iterations on Lists"
   ]
  },
  {
   "cell_type": "markdown",
   "metadata": {},
   "source": [
    "**1. Given the list:**"
   ]
  },
  {
   "cell_type": "code",
   "execution_count": 59,
   "metadata": {},
   "outputs": [],
   "source": [
    "x = [12, 43, 4, 1, 6, 343, 10, 34, 12, 93, 783, 330, 896, 1, 55]"
   ]
  },
  {
   "cell_type": "markdown",
   "metadata": {},
   "source": [
    "- Write a code to find only those numbers that are divisible by 3.  \n",
    "- Write a code to find only those numbers in the list that end with the digit 3. Store the results in an empty list called \"output_list\".\n",
    "- Find the minimum in the list `x`. Conduct your own research to see if you can use any function directly.\n",
    "- Find the maximum in the list `x`. Conduct your own research to see if you can use any function directly."
   ]
  },
  {
   "cell_type": "code",
   "execution_count": 116,
   "metadata": {},
   "outputs": [
    {
     "name": "stdout",
     "output_type": "stream",
     "text": [
      "12\n",
      "6\n",
      "12\n",
      "93\n",
      "783\n",
      "330\n",
      "\n",
      "\n",
      "[12, 43, 4, 1, 6, 343, 10, 34, 12, 93, 783, 330, 896, 1, 55]\n",
      "896\n",
      "1\n"
     ]
    }
   ],
   "source": [
    "for item in x:\n",
    "    if(item % 3 == 0):\n",
    "        print(item)\n",
    "    \n",
    "print('\\n')\n",
    "\n",
    " \n",
    "output_list = []\n",
    "for item in x: \n",
    "    output_list.append(item)\n",
    "print(output_list)\n",
    "\n",
    "print(max(output_list))\n",
    "print(min(output_list))"
   ]
  },
  {
   "cell_type": "markdown",
   "metadata": {},
   "source": [
    "-----------------------------"
   ]
  },
  {
   "cell_type": "markdown",
   "metadata": {},
   "source": [
    "**Iterating on Dictionaries**  \n",
    "Similarly we can also iterate on the elements of a dictionary. A simple example is shown below:"
   ]
  },
  {
   "cell_type": "code",
   "execution_count": null,
   "metadata": {},
   "outputs": [],
   "source": [
    "#example 1"
   ]
  },
  {
   "cell_type": "code",
   "execution_count": 52,
   "metadata": {},
   "outputs": [],
   "source": [
    "x = {'key1': 100 , 'key2': 200 , 'key3':300}"
   ]
  },
  {
   "cell_type": "code",
   "execution_count": 23,
   "metadata": {},
   "outputs": [
    {
     "name": "stdout",
     "output_type": "stream",
     "text": [
      "dict_keys(['key1', 'key2', 'key3'])\n"
     ]
    }
   ],
   "source": [
    "print(x.keys())"
   ]
  },
  {
   "cell_type": "code",
   "execution_count": 54,
   "metadata": {},
   "outputs": [
    {
     "name": "stdout",
     "output_type": "stream",
     "text": [
      "100\n",
      "200\n",
      "300\n"
     ]
    }
   ],
   "source": [
    "for key in x.keys():\n",
    "    print(x[key])"
   ]
  },
  {
   "cell_type": "code",
   "execution_count": null,
   "metadata": {},
   "outputs": [],
   "source": [
    "#example 2"
   ]
  },
  {
   "cell_type": "code",
   "execution_count": 55,
   "metadata": {
    "scrolled": true
   },
   "outputs": [
    {
     "name": "stdout",
     "output_type": "stream",
     "text": [
      "For  key1  the value is:  100\n",
      "For  key2  the value is:  200\n",
      "For  key3  the value is:  300\n"
     ]
    }
   ],
   "source": [
    "for key, value in x.items():\n",
    "    print(\"For \", key, \" the value is: \", value)"
   ]
  },
  {
   "cell_type": "code",
   "execution_count": null,
   "metadata": {},
   "outputs": [],
   "source": [
    "#example 3"
   ]
  },
  {
   "cell_type": "code",
   "execution_count": 56,
   "metadata": {},
   "outputs": [
    {
     "name": "stdout",
     "output_type": "stream",
     "text": [
      "Brian is 23 years old.\n",
      "Amy is 22 years old.\n",
      "Darlene is 47 years old.\n",
      "Ralph is 32 years old.\n",
      "Jordan is 28 years old.\n",
      "Stephanie is 35 years old.\n"
     ]
    }
   ],
   "source": [
    "ages = {'Brian':23, 'Amy':22, 'Darlene':47, 'Ralph':32, 'Jordan':28, 'Stephanie':35}\n",
    "\n",
    "for name, age in ages.items():\n",
    "    print(name, \"is\", age, \"years old.\")"
   ]
  },
  {
   "cell_type": "markdown",
   "metadata": {},
   "source": [
    "### Exercise: Iterations on Dictionaries"
   ]
  },
  {
   "cell_type": "markdown",
   "metadata": {},
   "source": [
    "**1. Given this dictionary:**"
   ]
  },
  {
   "cell_type": "code",
   "execution_count": 109,
   "metadata": {},
   "outputs": [],
   "source": [
    "word_freq = {'love': 25, 'conversation': 1, 'every': 6, \"we're\": 1, 'plate': 1, 'sour': 1, 'jukebox': 1, 'now': 11, 'taxi': 1, 'fast': 1, 'bag': 1, 'man': 1, 'push': 3, 'baby': 14, 'going': 1, 'you': 16, \"don't\": 2, 'one': 1, 'mind': 2, 'backseat': 1, 'friends': 1, 'then': 3, 'know': 2}"
   ]
  },
  {
   "cell_type": "markdown",
   "metadata": {},
   "source": [
    "- Iterate on the items of this dictionary to print only those keys where the freqeuncy of the word is less than 3?\n",
    "- Which is the word with the highest frequency?"
   ]
  },
  {
   "cell_type": "code",
   "execution_count": 113,
   "metadata": {},
   "outputs": [
    {
     "name": "stdout",
     "output_type": "stream",
     "text": [
      "dict_keys(['conversation', \"we're\", 'plate', 'sour', 'jukebox', 'taxi', 'fast', 'bag', 'man', 'going', \"don't\", 'one', 'mind', 'backseat', 'friends', 'know'])\n"
     ]
    }
   ],
   "source": [
    "new_dict={}\n",
    "for key, value in word_freq.items():\n",
    "    if value < 3:\n",
    "        new_dict[key]= value\n",
    "        \n",
    "print(new_dict.keys())"
   ]
  },
  {
   "cell_type": "code",
   "execution_count": 118,
   "metadata": {},
   "outputs": [
    {
     "name": "stdout",
     "output_type": "stream",
     "text": [
      "you\n"
     ]
    }
   ],
   "source": [
    "word_freq = {'love': 25, 'conversation': 1, 'every': 6, \"we're\": 1, 'plate': 1, 'sour': 1, 'jukebox': 1, 'now': 11, 'taxi': 1, 'fast': 1, 'bag': 1, 'man': 1, 'push': 3, 'baby': 14, 'going': 1, 'you': 16, \"don't\": 2, 'one': 1, 'mind': 2, 'backseat': 1, 'friends': 1, 'then': 3, 'know': 2}\n",
    "print(max(word_freq.keys()))"
   ]
  },
  {
   "cell_type": "markdown",
   "metadata": {},
   "source": [
    "## While Loops  "
   ]
  },
  {
   "cell_type": "markdown",
   "metadata": {},
   "source": [
    "While loop executes a block of statement until the condition is true. As soon as the condition is false, flow of the code jumps out of the while loop and starts executing the code after the while loop. "
   ]
  },
  {
   "cell_type": "code",
   "execution_count": 119,
   "metadata": {},
   "outputs": [
    {
     "name": "stdout",
     "output_type": "stream",
     "text": [
      "Hello\n",
      "0\n",
      "Hello\n",
      "1\n",
      "Hello\n",
      "2\n",
      "Hello\n",
      "3\n",
      "Hello\n",
      "4\n",
      "Hello\n",
      "5\n",
      "Hello\n",
      "6\n",
      "Hello\n",
      "7\n",
      "Hello\n",
      "8\n",
      "Hello\n",
      "9\n"
     ]
    }
   ],
   "source": [
    "i = 0 \n",
    "while i<10:\n",
    "    print(\"Hello\")\n",
    "    print(i)\n",
    "    i = i+1 # we update the value of i depending on how many times or how we want the while loop to work "
   ]
  },
  {
   "cell_type": "markdown",
   "metadata": {},
   "source": [
    "We initialize a variable `i` that we put a condition on in the WHILE statement. We use it to control the execution of the iterations"
   ]
  },
  {
   "cell_type": "code",
   "execution_count": 120,
   "metadata": {},
   "outputs": [
    {
     "name": "stdout",
     "output_type": "stream",
     "text": [
      "Hello\n",
      "0\n",
      "Hello\n",
      "3\n",
      "Hello\n",
      "6\n",
      "Hello\n",
      "9\n"
     ]
    }
   ],
   "source": [
    "i = 0\n",
    "while i<10:\n",
    "    print(\"Hello\")\n",
    "    print(i)\n",
    "    i = i + 3 # we update the value of i depending on how many times or how we want the while loop to work "
   ]
  },
  {
   "cell_type": "code",
   "execution_count": 1,
   "metadata": {},
   "outputs": [
    {
     "name": "stdout",
     "output_type": "stream",
     "text": [
      "I\n",
      "R\n",
      "O\n",
      "N\n",
      "H\n",
      "A\n",
      "C\n",
      "K\n"
     ]
    }
   ],
   "source": [
    "word = \"IRONHACK\"\n",
    "i = 0\n",
    "while i < len(word):\n",
    "    print(word[i])\n",
    "    i=i+1"
   ]
  },
  {
   "cell_type": "code",
   "execution_count": 4,
   "metadata": {},
   "outputs": [
    {
     "name": "stdout",
     "output_type": "stream",
     "text": [
      "M\n",
      "y\n",
      " \n",
      "n\n",
      "a\n",
      "m\n",
      "e\n",
      " \n",
      "i\n",
      "s\n",
      " \n",
      "P\n",
      "a\n",
      "b\n",
      "l\n",
      "o\n"
     ]
    }
   ],
   "source": [
    "word = \"My name is Pablo\"\n",
    "i = 0\n",
    "while i< 16:\n",
    "    print(word[i])\n",
    "    i = i+1"
   ]
  },
  {
   "cell_type": "markdown",
   "metadata": {},
   "source": [
    "**Please go through a guided example to understand how the while loop can be used to solve a problem**"
   ]
  },
  {
   "cell_type": "markdown",
   "metadata": {},
   "source": [
    "**Also please pay attention to this problem, we will ask you a similar question in the assessment as well !!**"
   ]
  },
  {
   "cell_type": "markdown",
   "metadata": {},
   "source": [
    "### Snail and well\n",
    "\n",
    "A snail falls at the bottom of a 125 cm well. Each day the snail rises 30 cm. But at night, while sleeping, slides 20 cm because the walls are wet. How many days does it take to escape from the well?"
   ]
  },
  {
   "cell_type": "code",
   "execution_count": 5,
   "metadata": {},
   "outputs": [
    {
     "name": "stdout",
     "output_type": "stream",
     "text": [
      "Days = 11\n"
     ]
    }
   ],
   "source": [
    "# Assign problem data to variables with representative names\n",
    "# well height, daily advance, night retreat, accumulated distance\n",
    "well_height = 125\n",
    "daily_climb = 30\n",
    "nightly_fall = 20\n",
    "total_distance = 0\n",
    "\n",
    "# Assign 0 to the variable that represents the solution\n",
    "total_days = 0\n",
    "\n",
    "# Assume we begin during the day, we use this boolean to determine if it is day or night\n",
    "is_day = True\n",
    "\n",
    "# Write the code that solves the problem\n",
    "while (total_distance < well_height):\n",
    "    if (is_day):\n",
    "        total_distance += daily_climb\n",
    "        total_days += 1\n",
    "        is_day = False\n",
    "    else:\n",
    "        total_distance -= nightly_fall\n",
    "        is_day = True\n",
    "        # Assume we only add days at end of night\n",
    "        \n",
    "    \n",
    "# Print the result with print('Days =', days)\n",
    "print('Days =', total_days)"
   ]
  }
 ],
 "metadata": {
  "kernelspec": {
   "display_name": "Python 3",
   "language": "python",
   "name": "python3"
  },
  "language_info": {
   "codemirror_mode": {
    "name": "ipython",
    "version": 3
   },
   "file_extension": ".py",
   "mimetype": "text/x-python",
   "name": "python",
   "nbconvert_exporter": "python",
   "pygments_lexer": "ipython3",
   "version": "3.8.5"
  }
 },
 "nbformat": 4,
 "nbformat_minor": 2
}
