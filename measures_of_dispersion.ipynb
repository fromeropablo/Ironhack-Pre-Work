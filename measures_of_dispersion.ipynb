{
 "cells": [
  {
   "cell_type": "markdown",
   "metadata": {},
   "source": [
    "## Measures of Dispersion"
   ]
  },
  {
   "cell_type": "markdown",
   "metadata": {},
   "source": [
    "### Exercise "
   ]
  },
  {
   "cell_type": "raw",
   "metadata": {},
   "source": [
    "1. What is the range for the data set\n",
    "    points = [-4,  17,  25,  19,  6,  11,  7]\n",
    "    \n",
    "2. You are given the following dataset:\n",
    "    \n",
    "    data = [2,4,7,1,6,8]\n",
    "    \n",
    "    How does the standard deviation change when 6 is replaced with 12 ? Does it increase, or decrease, or it remains the same?\n",
    "    \n",
    "\n",
    "3. Is is possile to have a dataset with 0 standard deviation or variance? If yes, can you think of any dataset with 6 data points that have 0 standard deviation?\n",
    "\n",
    "\n",
    "4. We know that standard deviation is a measure of spread in the dataset. What is meant by deviation here?\n",
    "\n",
    "\n",
    "5. Given the dataset in the list:\n",
    "    data = [23, 12, 34, 65, 34, 81]\n",
    "    What is the deviation from the mean for each of the points in the list. Write a for loop and print each of the values \n",
    "    \n",
    "    \n",
    "6. How is standard deviation different than variance ?   "
   ]
  },
  {
   "cell_type": "code",
   "execution_count": 3,
   "metadata": {},
   "outputs": [
    {
     "name": "stdout",
     "output_type": "stream",
     "text": [
      "29\n",
      "2.804757862395017\n",
      "4.131182235954578\n",
      "0.0\n",
      "The deviation is -18.5\n",
      "The deviation is -29.5\n",
      "The deviation is -7.5\n",
      "The deviation is 23.5\n",
      "The deviation is -7.5\n",
      "The deviation is 39.5\n"
     ]
    }
   ],
   "source": [
    "import statistics as stats\n",
    "\n",
    "points = [-4,  17,  25,  19,  6,  11,  7]\n",
    "\n",
    "#1.\n",
    "range1 = max(points) - min(points)\n",
    "print(range1)\n",
    "\n",
    "#2.\n",
    "data = [2,4,7,1,6,8]\n",
    "print(stats.stdev(data))\n",
    "\n",
    "data = [2,4,7,1,12,8]\n",
    "print(stats.stdev(data))\n",
    "\n",
    "# The standard deviation increases since the new number (12) is larger than the number replaced (6).\n",
    "\n",
    "#3. Yes, it is possible to have a dataset with 0 standard deviation. \n",
    "\n",
    "data1 = [3,3,3,3,3,3]\n",
    "print(stats.stdev(data1))\n",
    "\n",
    "#4. It is the amount of variation (or dispersion) of a set of values. \n",
    "\n",
    "#5. \n",
    "\n",
    "data2= [23, 12, 34, 65, 34, 81]\n",
    "mean = stats.mean(data2)\n",
    "\n",
    "for i in data2: \n",
    "    print(\"The deviation is\", i - mean)\n",
    "\n",
    "    \n",
    "#6. The unit of the variance is squared the unit of the standard deviation."
   ]
  },
  {
   "cell_type": "code",
   "execution_count": null,
   "metadata": {},
   "outputs": [],
   "source": []
  }
 ],
 "metadata": {
  "kernelspec": {
   "display_name": "Python 3",
   "language": "python",
   "name": "python3"
  },
  "language_info": {
   "codemirror_mode": {
    "name": "ipython",
    "version": 3
   },
   "file_extension": ".py",
   "mimetype": "text/x-python",
   "name": "python",
   "nbconvert_exporter": "python",
   "pygments_lexer": "ipython3",
   "version": "3.8.5"
  }
 },
 "nbformat": 4,
 "nbformat_minor": 2
}
