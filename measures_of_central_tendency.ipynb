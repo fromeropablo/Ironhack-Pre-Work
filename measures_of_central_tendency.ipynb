{
 "cells": [
  {
   "cell_type": "markdown",
   "metadata": {},
   "source": [
    "## Measures of Central Tendency"
   ]
  },
  {
   "cell_type": "markdown",
   "metadata": {},
   "source": [
    "### Exercise  "
   ]
  },
  {
   "cell_type": "raw",
   "metadata": {},
   "source": [
    "1. We saw that a dataset can have more than one mode. But can a dataset have more than one median? True or False\n",
    "\n",
    "2. Given the data in the list:\n",
    " data = [4,  7,  5,  9,  8,  6,  7,  7,  8,  5,  6,  9,  8, 5,  8,  7,  4,  7, 3,  6,  8,  9,  7,  6,  9]\n",
    " \n",
    " What is the range, mean, median, and mode of the dataset. \n",
    " Create a new dictionary called `data_dictionary` and store the above answers as key value pairs in the dictionary. Print the dictionary. \n",
    " \n",
    " \n",
    "3. To find which statistic do you have to arrange the data in an ascending order?\n",
    "\n",
    "4. How do you find the median when there are even number of data points?\n",
    "\n",
    "5. What is the range for the data set\n",
    "    points = [-4,  17,  25,  19,  6,  11,  7]\n",
    "\n",
    "6. What are outliers in a dataset? Which of the three - Mean, Median, and Mode - is more suseptible to change with presence of outliers in the data?\n",
    "\n"
   ]
  },
  {
   "cell_type": "code",
   "execution_count": 9,
   "metadata": {},
   "outputs": [
    {
     "name": "stdout",
     "output_type": "stream",
     "text": [
      "The range is 6\n",
      "The mean is 6.72\n",
      "The median is 7\n",
      "The mode is 7\n",
      "{'range1': 6, 'mean': 6.72, 'median': 7, 'mode': 7}\n"
     ]
    }
   ],
   "source": [
    "# 1. False, the median is unique\n",
    "\n",
    "#2. \n",
    "data = [4,  7,  5,  9,  8,  6,  7,  7,  8,  5,  6,  9,  8, 5,  8,  7,  4,  7, 3,  6,  8,  9,  7,  6,  9]\n",
    "\n",
    "import statistics as stats\n",
    "range1 = max(data) - min(data)\n",
    "print(\"The range is\", range1)\n",
    "\n",
    "mean = stats.mean(data)\n",
    "print(\"The mean is\", mean)\n",
    "median = stats.median(data)\n",
    "print(\"The median is\", median)\n",
    "mode = stats.mode(data)\n",
    "print(\"The mode is\", mode)\n",
    "data_dictionary = {'range1':6, 'mean':6.72, 'median':7, 'mode':7}\n",
    "print(data_dictionary)"
   ]
  },
  {
   "cell_type": "code",
   "execution_count": 10,
   "metadata": {},
   "outputs": [
    {
     "name": "stdout",
     "output_type": "stream",
     "text": [
      "29\n"
     ]
    }
   ],
   "source": [
    "#3. In order to find the median, you need to sort your data in an ascending order. \n",
    "\n",
    "#4. If there are even number of data points, you need to sum the two numbers in the middle of the data and then divide it by 2 to find the median. \n",
    "\n",
    "#5. The range is the value which shows the difference between the maximum value and the minimum value of a list.\n",
    "points = [-4,  17,  25,  19,  6,  11,  7]\n",
    "range2 = max(points) - min(points)\n",
    "print(range2)\n",
    "\n",
    "#6. An outlier is a value which differs significantly from the rest of the values in a list. It usually affects the analysis of the data, especially the mean because this value distort the sum of the rest of the values. "
   ]
  },
  {
   "cell_type": "code",
   "execution_count": null,
   "metadata": {},
   "outputs": [],
   "source": []
  }
 ],
 "metadata": {
  "kernelspec": {
   "display_name": "Python 3",
   "language": "python",
   "name": "python3"
  },
  "language_info": {
   "codemirror_mode": {
    "name": "ipython",
    "version": 3
   },
   "file_extension": ".py",
   "mimetype": "text/x-python",
   "name": "python",
   "nbconvert_exporter": "python",
   "pygments_lexer": "ipython3",
   "version": "3.8.5"
  }
 },
 "nbformat": 4,
 "nbformat_minor": 2
}
